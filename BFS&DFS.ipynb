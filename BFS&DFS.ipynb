{
 "cells": [
  {
   "cell_type": "markdown",
   "id": "76d84812",
   "metadata": {},
   "source": [
    "<h1 style=\" font-size: 50px;  color: #4d4dff; font-family: Montserrat;\">BFS&DFS</h1>\n",
    "<h4 style=\" font-size: 15px; margin-top:10px; color: #9999ff; font-family: Montserrat;\">Thanks to Professor Ehsan Khadangi and Mr. Engineer Ali Shafiei</h4>\n",
    "<h4 style=\" font-size: 15px; margin-top:10px; color: #9999ff; font-family: Montserrat;\">Compiled by Alireza Ansari</h4>"
   ]
  },
  {
   "attachments": {},
   "cell_type": "markdown",
   "id": "6d040c9d",
   "metadata": {},
   "source": [
    "<p style=\" padding-right:200px; padding-left:20px; font-size: 16px; font-family: Montserrat;  text-align: justify; \">  You have probably heard the name of the graph data structure. A data structure that consists of a set of nodes and a set of edges that relate the nodes to each other. As mentioned in the definition, one of the advantages of this structure is the connection between datas. Therefore, it is very important for us to discover the type and method of communication between nodes find a path between two nodes of the graph or find the shortest path between two graph nodes.To solve this challenge, we take help from two algorithms called BFS and DFS. Algorithms that allow us to travel through the graph.\n",
    "</p>"
   ]
  },
  {
   "cell_type": "markdown",
   "id": "948c08c9",
   "metadata": {},
   "source": [
    "<h1 style=\" font-size: 30px;  color: #4d4dff; font-family: Montserrat;\">+DFS</h1>"
   ]
  },
  {
   "cell_type": "markdown",
   "id": "4fc447ad",
   "metadata": {},
   "source": [
    "<p style=\"padding-right:200px; padding-left:20px; font-size: 16px; font-family: Montserrat;  text-align: justify; \">\n",
    "Depth-first search is an algorithm for traversing or searching tree or graph data structures. The algorithm starts at the root node (selecting some arbitrary node as the root node in the case of a graph) and explores as far as possible along each branch before backtracking. So the basic idea is to start from the root or any arbitrary node and mark the node and move to the adjacent unmarked node and continue this loop until there is no unmarked adjacent node. Then backtrack and check for other unmarked nodes and traverse them. Finally, print the nodes in the path.\n",
    "</p>"
   ]
  },
  {
   "cell_type": "markdown",
   "id": "f439ee43",
   "metadata": {},
   "source": [
    "<img src=\"https://inginious.org/course/competitive-programming/graphs-dfs/dfs.gif\">\n"
   ]
  },
  {
   "cell_type": "markdown",
   "id": "46ae32ef",
   "metadata": {},
   "source": [
    "<h4 style=\" font-size: 20px; margin-top:10px; color: #9999ff; font-family: Montserrat;\">idea behind DFS:</h4>\n"
   ]
  },
  {
   "cell_type": "markdown",
   "id": "93f04453",
   "metadata": {},
   "source": [
    "><p style=\"padding-right:200px; font-size: 16px; font-family: Montserrat;  text-align: justify; \">\n",
    "•Travel as far as you can down a path</br>\n",
    "•Back up as little as possible when you reach a \"dead end\" (i.e.,  next vertex has been \"marked\" or there is no next vertex) \n",
    "</p>"
   ]
  },
  {
   "cell_type": "markdown",
   "id": "61a9547f",
   "metadata": {},
   "source": [
    "<h4 style=\" font-size: 20px; margin-top:10px; color: #9999ff; font-family: Montserrat;\">Algorithm: </h4>\n"
   ]
  },
  {
   "cell_type": "markdown",
   "id": "849a1a0a",
   "metadata": {},
   "source": [
    "><p style=\"padding-right:200px; line-height: 30px; font-size: 16px; font-family: Montserrat; \">\n",
    "1)select a vertex(node) in a graph</br>\n",
    "2)visit it’s neighboring vertices</br>\n",
    "3)Continue recursively until there are no neighboring nodes</br>\n",
    "4)while doing ,check if the particular adjacent vertex is visited or not</br>\n",
    "5)backtrack to check for other unmarked vertices and traverse them in a same way \n",
    "</p>"
   ]
  },
  {
   "cell_type": "code",
   "execution_count": 13,
   "id": "5c94e667",
   "metadata": {},
   "outputs": [
    {
     "name": "stdout",
     "output_type": "stream",
     "text": [
      "[0]\n",
      "[0, 1]\n",
      "[0, 1, 3]\n",
      "[0, 1, 3, 4]\n",
      "[0, 1, 3, 4, 2]\n"
     ]
    }
   ],
   "source": [
    "from collections import defaultdict\n",
    " \n",
    "class Graph:\n",
    " \n",
    "    # Constructor\n",
    "    def __init__(self):\n",
    " \n",
    "        # default dictionary to store graph\n",
    "        self.graph = defaultdict(list)\n",
    " \n",
    "    # function to add an edge to graph\n",
    "    def addEdge(self, u, v):\n",
    "        self.graph[u].append(v)\n",
    " \n",
    "    # function used by DFS\n",
    "    def DFSUtil(self, v, visited):\n",
    " \n",
    "        # Mark the current node as visited\n",
    "        visited.append(v)\n",
    "        print(visited)\n",
    " \n",
    "        # Recursive part\n",
    "        for neighbour in self.graph[v]:\n",
    "            if neighbour not in visited:\n",
    "                self.DFSUtil(neighbour, visited)\n",
    " \n",
    "    # start of DFS traversal\n",
    "    # recursive DFSUtil()\n",
    "    def DFS(self, v):\n",
    " \n",
    "        # Create a set to store visited vertices\n",
    "        visited = []\n",
    " \n",
    "        # Call the recursive helper function\n",
    "        # to print DFS traversal\n",
    "        self.DFSUtil(v, visited)\n",
    " \n",
    " \n",
    "# Create a graph \n",
    "g = Graph()\n",
    "g.addEdge(0, 1)\n",
    "g.addEdge(1, 0)\n",
    "g.addEdge(0, 2)\n",
    "g.addEdge(2, 0)\n",
    "g.addEdge(0, 3)\n",
    "g.addEdge(3, 0)\n",
    "g.addEdge(1, 3)\n",
    "g.addEdge(3, 1)\n",
    "g.addEdge(3, 4)\n",
    "g.addEdge(4, 3)\n",
    "\n",
    "g.DFS(0)\n"
   ]
  },
  {
   "cell_type": "markdown",
   "id": "4c8f6409",
   "metadata": {},
   "source": [
    "<img src=\"https://s6.uupload.ir/files/screenshot_2022-07-21_113831_jg5m.jpg\" style=\"width:500px;\">"
   ]
  },
  {
   "cell_type": "markdown",
   "id": "3be1428b",
   "metadata": {},
   "source": [
    "<h4 style=\" font-size: 20px; margin-top:10px; color: #9999ff; font-family: Montserrat;\">Applications: </h4>\n"
   ]
  },
  {
   "cell_type": "markdown",
   "id": "dfa88c62",
   "metadata": {},
   "source": [
    "><p style=\"padding-right:200px; line-height: 30px; font-size: 16px; font-family: Montserrat; \">\n",
    "•select a vertex(node) in a graph as a root</br>\n",
    "•For finding the path</br>\n",
    "•To test if the graph is bipartite</br>\n",
    "•For finding the strongly connected components of a graph</br>\n",
    "•For detecting cycles in a graph\n",
    "</p>"
   ]
  },
  {
   "cell_type": "markdown",
   "id": "8dab6489",
   "metadata": {},
   "source": [
    "<h1 style=\" font-size: 30px;  color: #4d4dff; font-family: Montserrat;\">+BFS</h1>"
   ]
  },
  {
   "cell_type": "markdown",
   "id": "bbb69671",
   "metadata": {},
   "source": [
    "<p style=\"padding-right:200px; padding-left:20px; font-size: 16px; font-family: Montserrat;  text-align: justify; \">\n",
    "The Breadth First Search (BFS) is another fundamental search algorithm used to explore nodes and edges of a graph. It runs with a time complexity of 0(V+E) and is often used as a building block in other algorithms. \n",
    "The strategy used by BFS is to explore the graph level by level starting from a distinguished source node. Each level consists of a set of nodes which are equidistant from the source node.\n",
    "This startegy explores the nodes based on their proximity to the source node, making it ideal for finding the shortest path from a source node to every other node in the graph.\n",
    "To maintain the node's in level order, BFS uses queue.\n",
    "</p>"
   ]
  },
  {
   "cell_type": "markdown",
   "id": "061cc868",
   "metadata": {},
   "source": [
    "<img src=\"https://inginious.org/course/competitive-programming/graphs-bfs/anim.gif\">\n"
   ]
  },
  {
   "cell_type": "markdown",
   "id": "336f6a40",
   "metadata": {},
   "source": [
    "<h4 style=\" font-size: 20px; margin-top:10px; color: #9999ff; font-family: Montserrat;\">idea behind BFS:</h4>\n"
   ]
  },
  {
   "attachments": {},
   "cell_type": "markdown",
   "id": "c3d40c6f",
   "metadata": {},
   "source": [
    "><p style=\"padding-right:200px; font-size: 16px; font-family: Montserrat;  text-align: justify; \">\n",
    "•Look at all possible paths at the same depth before you go at a deeper level</br>\n",
    "•Back up as far as possible when you reach a \"dead end\" (i.e.,  next vertex has been \"marked\" or there is no next vertex)\n",
    "![image.png](attachment:image.png) \n",
    "</p>"
   ]
  },
  {
   "cell_type": "markdown",
   "id": "e9a257b8",
   "metadata": {},
   "source": [
    "<h4 style=\" font-size: 20px; margin-top:10px; color: #9999ff; font-family: Montserrat;\">Algorithm: </h4>\n"
   ]
  },
  {
   "cell_type": "markdown",
   "id": "4360265e",
   "metadata": {},
   "source": [
    "><p style=\"padding-right:200px; line-height: 30px; font-size: 16px; font-family: Montserrat; \">\n",
    "1)select a vertex(node) in a graph as a root</br>\n",
    "2)Put s onto a queue, and mark s as visited</br>\n",
    "3)Repeat this until queue is empty</br>\n",
    "4)remove the least recently added vertex v</br>\n",
    "5) add unvisited neighbors to the queue, and mark them as visited\n",
    "</p>"
   ]
  },
  {
   "cell_type": "code",
   "execution_count": 17,
   "id": "d7f2dabf",
   "metadata": {},
   "outputs": [
    {
     "name": "stdout",
     "output_type": "stream",
     "text": [
      "queue: [0]\n",
      "visited: [0]\n",
      "queue: [1, 2, 3]\n",
      "visited: [0, 1, 2, 3]\n",
      "queue: [2, 3]\n",
      "visited: [0, 1, 2, 3]\n",
      "queue: [3, 4]\n",
      "visited: [0, 1, 2, 3, 4]\n",
      "queue: [4]\n",
      "visited: [0, 1, 2, 3, 4]\n"
     ]
    }
   ],
   "source": [
    "from collections import defaultdict\n",
    "\n",
    "class Graph:\n",
    " \n",
    "    # Constructor\n",
    "    def __init__(self):\n",
    " \n",
    "        # default dictionary to store graph\n",
    "        self.graph = defaultdict(list)\n",
    " \n",
    "    # function to add an edge to graph\n",
    "    def addEdge(self,u,v):\n",
    "        self.graph[u].append(v)\n",
    " \n",
    "    # Function to print a BFS of graph\n",
    "    def BFS(self, s):\n",
    " \n",
    "        # Mark all the vertices as not visited\n",
    "        visited = [False] * (max(self.graph) + 1)\n",
    " \n",
    "        # Create a queue for BFS\n",
    "        queue = []\n",
    "        # display visited situation\n",
    "        display_visited=[s]\n",
    "        \n",
    "        # Mark the source node as\n",
    "        # visited and enqueue it\n",
    "        queue.append(s)\n",
    "        visited[s] = True\n",
    " \n",
    "        while queue:\n",
    " \n",
    "            # Dequeue a vertex from\n",
    "            # queue and print it\n",
    "            print(\"queue:\",queue)\n",
    "            print (\"visited:\",display_visited)\n",
    "            s = queue.pop(0)\n",
    "            # Get all adjacent vertices of the\n",
    "            # dequeued vertex s. If a adjacent\n",
    "            # has not been visited, then mark it\n",
    "            # visited and enqueue it\n",
    "            for i in self.graph[s]:\n",
    "                if visited[i] == False:\n",
    "                    queue.append(i)\n",
    "                    visited[i] = True\n",
    "                    display_visited.append(i)\n",
    " \n",
    "# Driver code\n",
    " \n",
    "# Create a graph given in\n",
    "# the above diagram\n",
    "g = Graph()\n",
    "g.addEdge(0, 1)\n",
    "g.addEdge(1, 0)\n",
    "g.addEdge(0, 2)\n",
    "g.addEdge(2, 0)\n",
    "g.addEdge(0, 3)\n",
    "g.addEdge(3, 0)\n",
    "g.addEdge(1, 2)\n",
    "g.addEdge(2, 1)\n",
    "g.addEdge(2, 4)\n",
    "g.addEdge(4, 2)\n",
    "\n",
    "g.BFS(0)\n"
   ]
  },
  {
   "cell_type": "markdown",
   "id": "04182f4e",
   "metadata": {},
   "source": [
    "<div style=\"display: flex;\">\n",
    "<img src=\"https://cdn.programiz.com/sites/tutorial2program/files/graph-bfs-step-0.png\" style=\"width:400px;\">\n",
    "<img src=\"https://cdn.programiz.com/sites/tutorial2program/files/graph-bfs-step-1.png\" style=\"width:400px;\">\n",
    "<img src=\"https://cdn.programiz.com/sites/tutorial2program/files/graph-bfs-step-2_2.png\" style=\"width:400px;\">\n",
    "<img src=\"https://cdn.programiz.com/sites/tutorial2program/files/graph-bfs-step-3.png\" style=\"width:400px;\">\n",
    "<img src=\"https://cdn.programiz.com/sites/tutorial2program/files/graph-bfs-step-4.png\" style=\"width:400px;\">\n",
    "<img src=\"https://cdn.programiz.com/sites/tutorial2program/files/graph-bfs-step-5.png\" style=\"width:400px;\">\n",
    "</div>"
   ]
  },
  {
   "cell_type": "markdown",
   "id": "be813605",
   "metadata": {},
   "source": [
    "<h4 style=\" font-size: 20px; margin-top:10px; color: #9999ff; font-family: Montserrat;\">Applications: </h4>\n"
   ]
  },
  {
   "cell_type": "markdown",
   "id": "b6925016",
   "metadata": {},
   "source": [
    "><p style=\"padding-right:200px; line-height: 30px; font-size: 16px; font-family: Montserrat; \">\n",
    "•select a vertex(node) in a graph as a root</br>\n",
    "•Social networks, you could have seen in LinkedIn profiles stated as 1st, 2nd and 3rd degree connection with respect to your profile.</br>\n",
    "•Shortest path and minimum spanning tree for unweighted graph.</br>\n",
    "•Crawlers in search engine are built index based using BFS.</br>\n",
    "•GPS navigation systems: BFS is used to find shortest paths from one location to another location.\n",
    "</p>"
   ]
  },
  {
   "cell_type": "markdown",
   "id": "59f4395f",
   "metadata": {},
   "source": [
    "<h1 style=\" font-size: 30px;  color: #4d4dff; font-family: Montserrat;\">+Difference between DFS and BFS</h1>"
   ]
  },
  {
   "cell_type": "markdown",
   "id": "eb202509",
   "metadata": {},
   "source": [
    "<img src=\"https://miro.medium.com/max/1400/1*gAPcMWGab8RGIManNHHxdg.gif\">\n"
   ]
  },
  {
   "cell_type": "markdown",
   "id": "89b26baf",
   "metadata": {},
   "source": [
    "<table style=\" font-family: Montserrat; font-size: 18px;\">\n",
    "<thead>\n",
    "<tr>\n",
    "<th style=\"text-align:center\">Basis</th>\n",
    "<th style=\"text-align:center\">DFS</th>\n",
    "<th style=\"text-align:center\">BFS</th>\n",
    "</tr>\n",
    "</thead>\n",
    "<tbody>\n",
    "<tr>\n",
    "<td style=\"text-align:center\">Traversal order</td>\n",
    "<td style=\"text-align:center\">Depth</td>\n",
    "<td style=\"text-align:center\">Level</td>\n",
    "</tr>\n",
    "<tr>\n",
    "<td style=\"text-align:center\">Data structure Used</td>\n",
    "<td style=\"text-align:center\">Stack</td>\n",
    "<td style=\"text-align:center\">Queue</td>\n",
    "</tr>\n",
    "<tr>\n",
    "<td style=\"text-align:center\">Time Complexity</td>\n",
    "<td style=\"text-align:center\"><strong>O(V + E)</strong></td>\n",
    "<td style=\"text-align:center\"><strong>O(V + E)</strong></td>\n",
    "</tr>\n",
    "<tr>\n",
    "<td style=\"text-align:center\">Space Complexity</td>\n",
    "<td style=\"text-align:center\"><strong>O(V)</strong>In BFS, the space complexity is more critical as compared to time complexity.</td>\n",
    "<td style=\"text-align:center\"><strong>O(V)</strong>DFS has lesser space complexity, because at a time it needs to store only single path from the root to leaf node.</td>\n",
    "</tr>\n",
    "<tr>\n",
    "<td style=\"text-align:center\">Traversal tree</td>\n",
    "<td style=\"text-align:center\">Narrow and long</td>\n",
    "<td style=\"text-align:center\">Wide and short</td>\n",
    "</tr>\n",
    "<tr>\n",
    "<td style=\"text-align:center\">When to use?</td>\n",
    "<td style=\"text-align:center\">When the target is close to the source, BFS performs better.</td>\n",
    "<td style=\"text-align:center\">When the target is far from the source, DFS is preferable.</td>\n",
    "</tr>\n",
    "<tr>\n",
    "</tr>    \n",
    "</tbody>\n",
    "</table>"
   ]
  },
  {
   "cell_type": "markdown",
   "id": "ed49fc54",
   "metadata": {},
   "source": [
    "<h1 style=\" font-size: 30px;  color: #4d4dff; font-family: Montserrat;\">+Dijkstra's Algorithm</h1>"
   ]
  },
  {
   "cell_type": "markdown",
   "id": "d5b74a51",
   "metadata": {},
   "source": [
    "<p style=\"padding-right:200px; padding-left:20px; font-size: 16px; font-family: Montserrat;  text-align: justify; \">\n",
    "Dijkstra's Algorithm works on the basis that any subpath B -> D of the shortest path A -> D between vertices A and D is also the shortest path between vertices B and D.\n",
    "Djikstra used this property in the opposite direction i.e we overestimate the distance of each vertex from the starting vertex. Then we visit each node and its neighbors to find the shortest subpath to those neighbors.  The algorithm uses a greedy approach in the sense that we find the next best solution hoping that the end result is the best solution for the whole problem.\n",
    "</p>"
   ]
  },
  {
   "cell_type": "markdown",
   "id": "9b0e7dad",
   "metadata": {},
   "source": [
    "<h4 style=\" font-size: 20px; margin-top:10px; color: #9999ff; font-family: Montserrat;\">Algorithm: </h4>\n"
   ]
  },
  {
   "attachments": {},
   "cell_type": "markdown",
   "id": "a0caee23",
   "metadata": {},
   "source": [
    "<div style=\"display: flex;\">\n",
    "<img src=\"https://cdn.programiz.com/sites/tutorial2program/files/dj-1.png\" style=\"width:400px;\">\n",
    "<img src=\"https://cdn.programiz.com/sites/tutorial2program/files/dj-2.png\" style=\"width:400px;\">\n",
    "<img src=\"https://cdn.programiz.com/sites/tutorial2program/files/dj-3.png\" style=\"width:400px;\">\n",
    "<img src=\"https://cdn.programiz.com/sites/tutorial2program/files/dj-4.png\" style=\"width:400px;\">\n",
    "<img src=\"https://cdn.programiz.com/sites/tutorial2program/files/dj-5.png\" style=\"width:400px;\">\n",
    "<img src=\"https://cdn.programiz.com/sites/tutorial2program/files/dj-6.png\" style=\"width:400px;\">\n",
    "<img src=\"https://cdn.programiz.com/sites/tutorial2program/files/dj-7.png\" style=\"width:400px;\">\n",
    "<img src=\"https://cdn.programiz.com/sites/tutorial2program/files/dj-8.png\" style=\"width:400px;\">    \n",
    "</div>"
   ]
  },
  {
   "cell_type": "markdown",
   "id": "7e864eb2",
   "metadata": {},
   "source": [
    "<h4 style=\" font-size: 20px; margin-top:10px; color: #9999ff; font-family: Montserrat;\">Applications: </h4>\n"
   ]
  },
  {
   "cell_type": "markdown",
   "id": "cd43ac2d",
   "metadata": {},
   "source": [
    "><p style=\"padding-right:200px; line-height: 30px; font-size: 16px; font-family: Montserrat; \">\n",
    "•To find the shortest path</br>\n",
    "•In social networking applications</br>\n",
    "•In a telephone network</br>\n",
    "•To find the locations in the map</br>\n",
    "</p>"
   ]
  },
  {
   "cell_type": "markdown",
   "id": "b94d532d",
   "metadata": {},
   "source": [
    "<img src=\"https://cdn.programiz.com/sites/tutorial2program/files/shortest-subpath.png\">\n"
   ]
  },
  {
   "cell_type": "code",
   "execution_count": null,
   "id": "0071cd62",
   "metadata": {},
   "outputs": [],
   "source": []
  }
 ],
 "metadata": {
  "kernelspec": {
   "display_name": "Python 3 (ipykernel)",
   "language": "python",
   "name": "python3"
  },
  "language_info": {
   "codemirror_mode": {
    "name": "ipython",
    "version": 3
   },
   "file_extension": ".py",
   "mimetype": "text/x-python",
   "name": "python",
   "nbconvert_exporter": "python",
   "pygments_lexer": "ipython3",
   "version": "3.9.13"
  }
 },
 "nbformat": 4,
 "nbformat_minor": 5
}
